{
 "cells": [
  {
   "cell_type": "code",
   "execution_count": 1,
   "metadata": {},
   "outputs": [],
   "source": [
    "import os\n",
    "import pandas\n",
    "import db_dtypes\n",
    "import folium\n",
    "from google.cloud import bigquery\n",
    "\n",
    "os.environ['GOOGLE_APPLICATION_CREDENTIALS'] = 'linkedininsightscase-9ef4c28fb738.json'"
   ]
  },
  {
   "cell_type": "code",
   "execution_count": 2,
   "metadata": {},
   "outputs": [],
   "source": [
    "client = bigquery.Client()"
   ]
  },
  {
   "cell_type": "code",
   "execution_count": 17,
   "metadata": {},
   "outputs": [],
   "source": [
    "sql = \"\"\"\n",
    "SELECT *\n",
    "FROM `bigquery-public-data.new_york_mv_collisions.nypd_mv_collisions`\n",
    "WHERE cast(timestamp as date) between \"2014-01-01\" AND \"2017-12-31\"\n",
    "AND borough = \"BROOKLYN\"\n",
    "ORDER BY timestamp ASC\n",
    "\"\"\"\n",
    "\n",
    "#pct_overlap_terms_by_days_apart.head()"
   ]
  },
  {
   "cell_type": "code",
   "execution_count": 18,
   "metadata": {},
   "outputs": [],
   "source": [
    "query_job = client.query(sql).to_dataframe()\n",
    "query_job.to_csv('bigquery_nypd_collisions.csv')"
   ]
  },
  {
   "cell_type": "code",
   "execution_count": 12,
   "metadata": {},
   "outputs": [
    {
     "name": "stdout",
     "output_type": "stream",
     "text": [
      "  borough contributing_factor_vehicle_1 contributing_factor_vehicle_2  \\\n",
      "0    None            Turning Improperly                   Unspecified   \n",
      "1    None                   Unspecified                   Unspecified   \n",
      "2    None                   Unspecified                   Unspecified   \n",
      "3    None                   Unspecified                          None   \n",
      "4    None                   Unspecified                   Unspecified   \n",
      "5    None                   Unspecified                   Unspecified   \n",
      "6    None                   Unspecified                   Unspecified   \n",
      "7    None                   Unspecified                   Unspecified   \n",
      "8    None             Pavement Slippery                          None   \n",
      "9    None                   Unspecified                   Unspecified   \n",
      "\n",
      "  contributing_factor_vehicle_3 contributing_factor_vehicle_4  \\\n",
      "0                          None                          None   \n",
      "1                          None                          None   \n",
      "2                          None                          None   \n",
      "3                          None                          None   \n",
      "4                          None                          None   \n",
      "5                   Unspecified                          None   \n",
      "6                          None                          None   \n",
      "7                          None                          None   \n",
      "8                          None                          None   \n",
      "9                          None                          None   \n",
      "\n",
      "  contributing_factor_vehicle_5                 cross_street_name  \\\n",
      "0                          None                              None   \n",
      "1                          None  MADISON AVENUE                     \n",
      "2                          None                              None   \n",
      "3                          None  COLDEN AVENUE                      \n",
      "4                          None  70 AVENUE                          \n",
      "5                          None                              None   \n",
      "6                          None  33 STREET                          \n",
      "7                          None                              None   \n",
      "8                          None                              None   \n",
      "9                          None  METROPOLITAN AVENUE                \n",
      "\n",
      "            timestamp  latitude  longitude  ... number_of_persons_killed  \\\n",
      "0 2014-04-18 14:00:00       NaN        NaN  ...                        0   \n",
      "1 2014-04-23 16:30:00       NaN        NaN  ...                        0   \n",
      "2 2014-05-03 13:38:00       NaN        NaN  ...                        0   \n",
      "3 2014-03-14 16:04:00       NaN        NaN  ...                        0   \n",
      "4 2014-03-15 12:00:00       NaN        NaN  ...                        0   \n",
      "5 2014-02-14 08:30:00       NaN        NaN  ...                        0   \n",
      "6 2014-02-22 21:10:00       NaN        NaN  ...                        0   \n",
      "7 2013-12-27 12:05:00       NaN        NaN  ...                        0   \n",
      "8 2014-01-02 04:30:00       NaN        NaN  ...                        0   \n",
      "9 2013-12-17 17:50:00       NaN        NaN  ...                        0   \n",
      "\n",
      "                            off_street_name                    on_street_name  \\\n",
      "0                                      None                              None   \n",
      "1                                      None  EAST 135 STREET                    \n",
      "2  WEST 178 STREET HENRY HUDSON PARKWAY                                  None   \n",
      "3                                      None  BRONXDALE AVENUE                   \n",
      "4                                      None  QUEENS BOULEVARD                   \n",
      "5                                      None                              None   \n",
      "6                                      None  ASTORIA BOULEVARD SOUTH            \n",
      "7   PL OF 2655 RICHMOND AVE                                              None   \n",
      "8                                      None                              None   \n",
      "9                                      None  UNION TURNPIKE                     \n",
      "\n",
      "   unique_key             vehicle_type_code1              vehicle_type_code2  \\\n",
      "0     2919391              PASSENGER VEHICLE                           OTHER   \n",
      "1      324163                            VAN               PASSENGER VEHICLE   \n",
      "2      329320              PASSENGER VEHICLE               PASSENGER VEHICLE   \n",
      "3      305375              PASSENGER VEHICLE                            None   \n",
      "4      307263              PASSENGER VEHICLE   SPORT UTILITY / STATION WAGON   \n",
      "5     2927809                          OTHER   SPORT UTILITY / STATION WAGON   \n",
      "6      279209                     MOTORCYCLE               PASSENGER VEHICLE   \n",
      "7      292457              PASSENGER VEHICLE               PASSENGER VEHICLE   \n",
      "8     2913910  SPORT UTILITY / STATION WAGON                            None   \n",
      "9      267601              PASSENGER VEHICLE  LARGE COM VEH(6 OR MORE TIRES)   \n",
      "\n",
      "   vehicle_type_code_3  vehicle_type_code_4  vehicle_type_code_5 zip_code  \n",
      "0                 None                 None                 None     <NA>  \n",
      "1                 None                 None                 None     <NA>  \n",
      "2                 None                 None                 None     <NA>  \n",
      "3                 None                 None                 None     <NA>  \n",
      "4                 None                 None                 None     <NA>  \n",
      "5                 TAXI                 None                 None     <NA>  \n",
      "6                 None                 None                 None     <NA>  \n",
      "7                 None                 None                 None     <NA>  \n",
      "8                 None                 None                 None     <NA>  \n",
      "9                 None                 None                 None     <NA>  \n",
      "\n",
      "[10 rows x 28 columns]\n"
     ]
    }
   ],
   "source": [
    "print(query_job)\n"
   ]
  }
 ],
 "metadata": {
  "kernelspec": {
   "display_name": "Python 3",
   "language": "python",
   "name": "python3"
  },
  "language_info": {
   "codemirror_mode": {
    "name": "ipython",
    "version": 3
   },
   "file_extension": ".py",
   "mimetype": "text/x-python",
   "name": "python",
   "nbconvert_exporter": "python",
   "pygments_lexer": "ipython3",
   "version": "3.9.7"
  }
 },
 "nbformat": 4,
 "nbformat_minor": 2
}
